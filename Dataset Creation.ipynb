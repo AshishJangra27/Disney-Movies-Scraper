{
  "cells": [
    {
      "cell_type": "markdown",
      "metadata": {
        "id": "I5F-b9amx_8V"
      },
      "source": [
        "#### Import Necessary Libraries\n",
        "\n",
        "\n"
      ]
    },
    {
      "cell_type": "code",
      "execution_count": null,
      "metadata": {
        "id": "Hj5REtPNx_8V"
      },
      "outputs": [],
      "source": [
        "import json\n",
        "import requests\n",
        "import pandas as pd\n",
        "from tqdm import tqdm\n",
        "\n",
        "from bs4 import BeautifulSoup as bs"
      ]
    },
    {
      "cell_type": "markdown",
      "source": [
        "### Scaraping Movie Information"
      ],
      "metadata": {
        "id": "caUtp8F3XzcP"
      }
    },
    {
      "cell_type": "code",
      "source": [
        "def extract_data(link):\n",
        "\n",
        "  r = requests.get(link)\n",
        "  soup = bs(r.content)\n",
        "  sp = soup.find(class_=\"infobox vevent\")\n",
        "\n",
        "  data = {}\n",
        "\n",
        "  try:\n",
        "    for indx,i in enumerate(sp.find_all('tr')):\n",
        "      if (indx == 0):                                      # Title\n",
        "        data['title'] =  i.text\n",
        "\n",
        "      elif (indx == 1):                                    # Image\n",
        "        data['poster'] =  i.find('a').get('href')\n",
        "\n",
        "      elif (i.find('li')):   \n",
        "        try:                                              # Keys with Multiple Values\n",
        "          data[(i.find('th').text.split(' ')[0])] = [j.text.replace('\\xa0',' ') for j in i.find_all('li')]\n",
        "        except:\n",
        "          pass\n",
        "\n",
        "      else:   \n",
        "        try:                                             # Keys with Single Values\n",
        "          data[i.find('th').text.split(' ')[0]] = i.find('td').text.replace('\\xa0','')\n",
        "        except:\n",
        "          pass\n",
        "\n",
        "    return data\n",
        "  \n",
        "  except:\n",
        "    pass\n",
        "\n",
        "  extract_data('https://en.wikipedia.org//wiki/Academy_Award_Review_of_Walt_Disney_Cartoons')"
      ],
      "metadata": {
        "id": "qKj4PbB4K3Js"
      },
      "execution_count": null,
      "outputs": []
    },
    {
      "cell_type": "code",
      "source": [
        "r = requests.get('https://en.wikipedia.org/wiki/List_of_Walt_Disney_Pictures_films')\n",
        "soup = bs(r.content)\n",
        "\n",
        "links = []\n",
        "\n",
        "for i in soup.find_all(('table' ,'wikitable sortable jquery-tablesorter'))[:-3]:\n",
        "  d = [m.find('a') for m in i.find_all('tr')][1:]\n",
        "  \n",
        "  try:\n",
        "    links += [[m.text ,'https://en.wikipedia.org/'+m.get('href')] for m in d]\n",
        "  except:\n",
        "    pass"
      ],
      "metadata": {
        "id": "BW-O9-MGYQZz"
      },
      "execution_count": null,
      "outputs": []
    },
    {
      "cell_type": "code",
      "source": [
        "df = pd.DataFrame(links, columns = ['title','link'])\n",
        "\n",
        "df = df[df['title'] != '[24]']\n",
        "df = df[df['title'] != '[8]']\n",
        "\n",
        "df.head()"
      ],
      "metadata": {
        "id": "YN_SFcowYQXR",
        "outputId": "41d066ab-ac1a-4891-b320-f8d75d8d3c12",
        "colab": {
          "base_uri": "https://localhost:8080/",
          "height": 206
        }
      },
      "execution_count": null,
      "outputs": [
        {
          "output_type": "execute_result",
          "data": {
            "text/plain": [
              "                                          title  \\\n",
              "0  Academy Award Review of Walt Disney Cartoons   \n",
              "1               Snow White and the Seven Dwarfs   \n",
              "2                                     Pinocchio   \n",
              "3                                      Fantasia   \n",
              "4                          The Reluctant Dragon   \n",
              "\n",
              "                                                link  \n",
              "0  https://en.wikipedia.org//wiki/Academy_Award_R...  \n",
              "1  https://en.wikipedia.org//wiki/Snow_White_and_...  \n",
              "2  https://en.wikipedia.org//wiki/Pinocchio_(1940...  \n",
              "3  https://en.wikipedia.org//wiki/Fantasia_(1940_...  \n",
              "4  https://en.wikipedia.org//wiki/The_Reluctant_D...  "
            ],
            "text/html": [
              "\n",
              "  <div id=\"df-545b5376-3f84-4c0f-9bfa-b3dd7fc408de\">\n",
              "    <div class=\"colab-df-container\">\n",
              "      <div>\n",
              "<style scoped>\n",
              "    .dataframe tbody tr th:only-of-type {\n",
              "        vertical-align: middle;\n",
              "    }\n",
              "\n",
              "    .dataframe tbody tr th {\n",
              "        vertical-align: top;\n",
              "    }\n",
              "\n",
              "    .dataframe thead th {\n",
              "        text-align: right;\n",
              "    }\n",
              "</style>\n",
              "<table border=\"1\" class=\"dataframe\">\n",
              "  <thead>\n",
              "    <tr style=\"text-align: right;\">\n",
              "      <th></th>\n",
              "      <th>title</th>\n",
              "      <th>link</th>\n",
              "    </tr>\n",
              "  </thead>\n",
              "  <tbody>\n",
              "    <tr>\n",
              "      <th>0</th>\n",
              "      <td>Academy Award Review of Walt Disney Cartoons</td>\n",
              "      <td>https://en.wikipedia.org//wiki/Academy_Award_R...</td>\n",
              "    </tr>\n",
              "    <tr>\n",
              "      <th>1</th>\n",
              "      <td>Snow White and the Seven Dwarfs</td>\n",
              "      <td>https://en.wikipedia.org//wiki/Snow_White_and_...</td>\n",
              "    </tr>\n",
              "    <tr>\n",
              "      <th>2</th>\n",
              "      <td>Pinocchio</td>\n",
              "      <td>https://en.wikipedia.org//wiki/Pinocchio_(1940...</td>\n",
              "    </tr>\n",
              "    <tr>\n",
              "      <th>3</th>\n",
              "      <td>Fantasia</td>\n",
              "      <td>https://en.wikipedia.org//wiki/Fantasia_(1940_...</td>\n",
              "    </tr>\n",
              "    <tr>\n",
              "      <th>4</th>\n",
              "      <td>The Reluctant Dragon</td>\n",
              "      <td>https://en.wikipedia.org//wiki/The_Reluctant_D...</td>\n",
              "    </tr>\n",
              "  </tbody>\n",
              "</table>\n",
              "</div>\n",
              "      <button class=\"colab-df-convert\" onclick=\"convertToInteractive('df-545b5376-3f84-4c0f-9bfa-b3dd7fc408de')\"\n",
              "              title=\"Convert this dataframe to an interactive table.\"\n",
              "              style=\"display:none;\">\n",
              "        \n",
              "  <svg xmlns=\"http://www.w3.org/2000/svg\" height=\"24px\"viewBox=\"0 0 24 24\"\n",
              "       width=\"24px\">\n",
              "    <path d=\"M0 0h24v24H0V0z\" fill=\"none\"/>\n",
              "    <path d=\"M18.56 5.44l.94 2.06.94-2.06 2.06-.94-2.06-.94-.94-2.06-.94 2.06-2.06.94zm-11 1L8.5 8.5l.94-2.06 2.06-.94-2.06-.94L8.5 2.5l-.94 2.06-2.06.94zm10 10l.94 2.06.94-2.06 2.06-.94-2.06-.94-.94-2.06-.94 2.06-2.06.94z\"/><path d=\"M17.41 7.96l-1.37-1.37c-.4-.4-.92-.59-1.43-.59-.52 0-1.04.2-1.43.59L10.3 9.45l-7.72 7.72c-.78.78-.78 2.05 0 2.83L4 21.41c.39.39.9.59 1.41.59.51 0 1.02-.2 1.41-.59l7.78-7.78 2.81-2.81c.8-.78.8-2.07 0-2.86zM5.41 20L4 18.59l7.72-7.72 1.47 1.35L5.41 20z\"/>\n",
              "  </svg>\n",
              "      </button>\n",
              "      \n",
              "  <style>\n",
              "    .colab-df-container {\n",
              "      display:flex;\n",
              "      flex-wrap:wrap;\n",
              "      gap: 12px;\n",
              "    }\n",
              "\n",
              "    .colab-df-convert {\n",
              "      background-color: #E8F0FE;\n",
              "      border: none;\n",
              "      border-radius: 50%;\n",
              "      cursor: pointer;\n",
              "      display: none;\n",
              "      fill: #1967D2;\n",
              "      height: 32px;\n",
              "      padding: 0 0 0 0;\n",
              "      width: 32px;\n",
              "    }\n",
              "\n",
              "    .colab-df-convert:hover {\n",
              "      background-color: #E2EBFA;\n",
              "      box-shadow: 0px 1px 2px rgba(60, 64, 67, 0.3), 0px 1px 3px 1px rgba(60, 64, 67, 0.15);\n",
              "      fill: #174EA6;\n",
              "    }\n",
              "\n",
              "    [theme=dark] .colab-df-convert {\n",
              "      background-color: #3B4455;\n",
              "      fill: #D2E3FC;\n",
              "    }\n",
              "\n",
              "    [theme=dark] .colab-df-convert:hover {\n",
              "      background-color: #434B5C;\n",
              "      box-shadow: 0px 1px 3px 1px rgba(0, 0, 0, 0.15);\n",
              "      filter: drop-shadow(0px 1px 2px rgba(0, 0, 0, 0.3));\n",
              "      fill: #FFFFFF;\n",
              "    }\n",
              "  </style>\n",
              "\n",
              "      <script>\n",
              "        const buttonEl =\n",
              "          document.querySelector('#df-545b5376-3f84-4c0f-9bfa-b3dd7fc408de button.colab-df-convert');\n",
              "        buttonEl.style.display =\n",
              "          google.colab.kernel.accessAllowed ? 'block' : 'none';\n",
              "\n",
              "        async function convertToInteractive(key) {\n",
              "          const element = document.querySelector('#df-545b5376-3f84-4c0f-9bfa-b3dd7fc408de');\n",
              "          const dataTable =\n",
              "            await google.colab.kernel.invokeFunction('convertToInteractive',\n",
              "                                                     [key], {});\n",
              "          if (!dataTable) return;\n",
              "\n",
              "          const docLinkHtml = 'Like what you see? Visit the ' +\n",
              "            '<a target=\"_blank\" href=https://colab.research.google.com/notebooks/data_table.ipynb>data table notebook</a>'\n",
              "            + ' to learn more about interactive tables.';\n",
              "          element.innerHTML = '';\n",
              "          dataTable['output_type'] = 'display_data';\n",
              "          await google.colab.output.renderOutput(dataTable, element);\n",
              "          const docLink = document.createElement('div');\n",
              "          docLink.innerHTML = docLinkHtml;\n",
              "          element.appendChild(docLink);\n",
              "        }\n",
              "      </script>\n",
              "    </div>\n",
              "  </div>\n",
              "  "
            ]
          },
          "metadata": {},
          "execution_count": 138
        }
      ]
    },
    {
      "cell_type": "code",
      "execution_count": null,
      "metadata": {
        "id": "F8ILrqImx_8Y",
        "outputId": "7b2808e0-a7c1-46e7-826b-43c0def7fa18",
        "colab": {
          "base_uri": "https://localhost:8080/"
        }
      },
      "outputs": [
        {
          "output_type": "stream",
          "name": "stderr",
          "text": [
            "378it [01:56,  3.25it/s]\n"
          ]
        }
      ],
      "source": [
        "js = {}\n",
        "\n",
        "for indx,i in tqdm(enumerate(df['link'])):\n",
        "  if (extract_data(i)):\n",
        "    data = extract_data(i)\n",
        "\n",
        "    key = 'd' + str(10001 + indx)\n",
        "\n",
        "    js[key] = data"
      ]
    },
    {
      "cell_type": "code",
      "source": [
        "corp = json.dumps(js)\n",
        "\n",
        "fd = open('disney.json','w')\n",
        "fd.write(corp)\n",
        "fd.close()"
      ],
      "metadata": {
        "id": "oRAC_oWXoL2C"
      },
      "execution_count": null,
      "outputs": []
    },
    {
      "cell_type": "code",
      "source": [
        ""
      ],
      "metadata": {
        "id": "SCvQ18Cyo4LO"
      },
      "execution_count": null,
      "outputs": []
    }
  ],
  "metadata": {
    "kernelspec": {
      "display_name": "Python 3",
      "language": "python",
      "name": "python3"
    },
    "language_info": {
      "codemirror_mode": {
        "name": "ipython",
        "version": 3
      },
      "file_extension": ".py",
      "mimetype": "text/x-python",
      "name": "python",
      "nbconvert_exporter": "python",
      "pygments_lexer": "ipython3",
      "version": "3.7.7"
    },
    "colab": {
      "name": "Disney Movies | Dataset Creation",
      "provenance": []
    }
  },
  "nbformat": 4,
  "nbformat_minor": 0
}